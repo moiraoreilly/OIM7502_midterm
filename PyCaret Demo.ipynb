{
 "cells": [
  {
   "cell_type": "markdown",
   "id": "328930cd-d045-43d3-800f-633fce453b95",
   "metadata": {},
   "source": [
    "The first step is to install the pycaret library. Shown below is the code for default installation. This will not include all the optional dependencies, to install them, use ```pip install pycaret[full]```"
   ]
  },
  {
   "cell_type": "code",
   "execution_count": 3,
   "id": "51f76a45-78be-4eb7-af17-2b478c878d11",
   "metadata": {
    "scrolled": true
   },
   "outputs": [
    {
     "name": "stdout",
     "output_type": "stream",
     "text": [
      "Collecting pycaretNote: you may need to restart the kernel to use updated packages.\n",
      "\n",
      "  Using cached pycaret-3.3.2-py3-none-any.whl.metadata (17 kB)\n",
      "Requirement already satisfied: ipython>=5.5.0 in c:\\users\\moreilly1\\appdata\\roaming\\python\\python39\\site-packages (from pycaret) (8.18.1)\n",
      "Requirement already satisfied: ipywidgets>=7.6.5 in c:\\users\\moreilly1\\anaconda3\\lib\\site-packages (from pycaret) (8.1.5)\n",
      "Requirement already satisfied: tqdm>=4.62.0 in c:\\users\\moreilly1\\anaconda3\\lib\\site-packages (from pycaret) (4.67.1)\n",
      "Requirement already satisfied: numpy<1.27,>=1.21 in c:\\users\\moreilly1\\anaconda3\\lib\\site-packages (from pycaret) (1.26.4)\n",
      "Requirement already satisfied: pandas<2.2.0 in c:\\users\\moreilly1\\anaconda3\\lib\\site-packages (from pycaret) (2.1.4)\n",
      "Requirement already satisfied: jinja2>=3 in c:\\users\\moreilly1\\anaconda3\\lib\\site-packages (from pycaret) (3.1.5)\n",
      "Requirement already satisfied: scipy<=1.11.4,>=1.6.1 in c:\\users\\moreilly1\\anaconda3\\lib\\site-packages (from pycaret) (1.11.4)\n",
      "Requirement already satisfied: joblib<1.4,>=1.2.0 in c:\\users\\moreilly1\\anaconda3\\lib\\site-packages (from pycaret) (1.3.2)\n",
      "Requirement already satisfied: scikit-learn>1.4.0 in c:\\users\\moreilly1\\anaconda3\\lib\\site-packages (from pycaret) (1.4.2)\n",
      "Collecting pyod>=1.1.3 (from pycaret)\n",
      "  Using cached pyod-2.0.4-py3-none-any.whl\n",
      "Requirement already satisfied: imbalanced-learn>=0.12.0 in c:\\users\\moreilly1\\anaconda3\\lib\\site-packages (from pycaret) (0.12.3)\n",
      "Collecting category-encoders>=2.4.0 (from pycaret)\n",
      "  Using cached category_encoders-2.6.4-py2.py3-none-any.whl.metadata (8.0 kB)\n",
      "Collecting lightgbm>=3.0.0 (from pycaret)\n",
      "  Using cached lightgbm-4.6.0-py3-none-win_amd64.whl.metadata (17 kB)\n",
      "Requirement already satisfied: numba>=0.55.0 in c:\\users\\moreilly1\\anaconda3\\lib\\site-packages (from pycaret) (0.60.0)\n",
      "Requirement already satisfied: requests>=2.27.1 in c:\\users\\moreilly1\\anaconda3\\lib\\site-packages (from pycaret) (2.32.3)\n",
      "Requirement already satisfied: psutil>=5.9.0 in c:\\users\\moreilly1\\appdata\\roaming\\python\\python39\\site-packages (from pycaret) (6.1.0)\n",
      "Requirement already satisfied: markupsafe>=2.0.1 in c:\\users\\moreilly1\\anaconda3\\lib\\site-packages (from pycaret) (3.0.2)\n",
      "Requirement already satisfied: importlib-metadata>=4.12.0 in c:\\users\\moreilly1\\appdata\\roaming\\python\\python39\\site-packages (from pycaret) (8.5.0)\n",
      "Requirement already satisfied: nbformat>=4.2.0 in c:\\users\\moreilly1\\anaconda3\\lib\\site-packages (from pycaret) (5.10.4)\n",
      "Requirement already satisfied: cloudpickle in c:\\users\\moreilly1\\anaconda3\\lib\\site-packages (from pycaret) (3.0.0)\n",
      "Requirement already satisfied: deprecation>=2.1.0 in c:\\users\\moreilly1\\anaconda3\\lib\\site-packages (from pycaret) (2.1.0)\n",
      "Requirement already satisfied: xxhash in c:\\users\\moreilly1\\anaconda3\\lib\\site-packages (from pycaret) (3.5.0)\n",
      "Collecting matplotlib<3.8.0 (from pycaret)\n",
      "  Using cached matplotlib-3.7.5-cp39-cp39-win_amd64.whl.metadata (5.8 kB)\n",
      "Collecting scikit-plot>=0.3.7 (from pycaret)\n",
      "  Using cached scikit_plot-0.3.7-py3-none-any.whl.metadata (7.1 kB)\n",
      "Collecting yellowbrick>=1.4 (from pycaret)\n",
      "  Using cached yellowbrick-1.5-py3-none-any.whl.metadata (7.7 kB)\n",
      "Requirement already satisfied: plotly>=5.14.0 in c:\\users\\moreilly1\\anaconda3\\lib\\site-packages (from pycaret) (5.24.1)\n",
      "Requirement already satisfied: kaleido>=0.2.1 in c:\\users\\moreilly1\\anaconda3\\lib\\site-packages (from pycaret) (0.2.1)\n",
      "Requirement already satisfied: schemdraw==0.15 in c:\\users\\moreilly1\\anaconda3\\lib\\site-packages (from pycaret) (0.15)\n",
      "Collecting plotly-resampler>=0.8.3.1 (from pycaret)\n",
      "  Using cached plotly_resampler-0.10.0-py3-none-any.whl.metadata (13 kB)\n",
      "Requirement already satisfied: statsmodels>=0.12.1 in c:\\users\\moreilly1\\anaconda3\\lib\\site-packages (from pycaret) (0.14.4)\n",
      "Collecting sktime==0.26.0 (from pycaret)\n",
      "  Using cached sktime-0.26.0-py3-none-any.whl.metadata (29 kB)\n",
      "Collecting tbats>=1.1.3 (from pycaret)\n",
      "  Using cached tbats-1.1.3-py3-none-any.whl.metadata (3.8 kB)\n",
      "Collecting pmdarima>=2.0.4 (from pycaret)\n",
      "  Using cached pmdarima-2.0.4-cp39-cp39-win_amd64.whl.metadata (8.0 kB)\n",
      "Requirement already satisfied: packaging in c:\\users\\moreilly1\\anaconda3\\lib\\site-packages (from sktime==0.26.0->pycaret) (24.2)\n",
      "Requirement already satisfied: scikit-base<0.8.0 in c:\\users\\moreilly1\\anaconda3\\lib\\site-packages (from sktime==0.26.0->pycaret) (0.7.8)\n",
      "Requirement already satisfied: patsy>=0.5.1 in c:\\users\\moreilly1\\anaconda3\\lib\\site-packages (from category-encoders>=2.4.0->pycaret) (1.0.1)\n",
      "Requirement already satisfied: threadpoolctl>=2.0.0 in c:\\users\\moreilly1\\anaconda3\\lib\\site-packages (from imbalanced-learn>=0.12.0->pycaret) (3.5.0)\n",
      "Requirement already satisfied: zipp>=3.20 in c:\\users\\moreilly1\\appdata\\roaming\\python\\python39\\site-packages (from importlib-metadata>=4.12.0->pycaret) (3.21.0)\n",
      "Requirement already satisfied: decorator in c:\\users\\moreilly1\\appdata\\roaming\\python\\python39\\site-packages (from ipython>=5.5.0->pycaret) (5.1.1)\n",
      "Requirement already satisfied: jedi>=0.16 in c:\\users\\moreilly1\\appdata\\roaming\\python\\python39\\site-packages (from ipython>=5.5.0->pycaret) (0.19.2)\n",
      "Requirement already satisfied: matplotlib-inline in c:\\users\\moreilly1\\appdata\\roaming\\python\\python39\\site-packages (from ipython>=5.5.0->pycaret) (0.1.7)\n",
      "Requirement already satisfied: prompt-toolkit<3.1.0,>=3.0.41 in c:\\users\\moreilly1\\appdata\\roaming\\python\\python39\\site-packages (from ipython>=5.5.0->pycaret) (3.0.48)\n",
      "Requirement already satisfied: pygments>=2.4.0 in c:\\users\\moreilly1\\appdata\\roaming\\python\\python39\\site-packages (from ipython>=5.5.0->pycaret) (2.18.0)\n",
      "Requirement already satisfied: stack-data in c:\\users\\moreilly1\\appdata\\roaming\\python\\python39\\site-packages (from ipython>=5.5.0->pycaret) (0.6.3)\n",
      "Requirement already satisfied: traitlets>=5 in c:\\users\\moreilly1\\appdata\\roaming\\python\\python39\\site-packages (from ipython>=5.5.0->pycaret) (5.14.3)\n",
      "Requirement already satisfied: typing-extensions in c:\\users\\moreilly1\\appdata\\roaming\\python\\python39\\site-packages (from ipython>=5.5.0->pycaret) (4.12.2)\n",
      "Requirement already satisfied: exceptiongroup in c:\\users\\moreilly1\\appdata\\roaming\\python\\python39\\site-packages (from ipython>=5.5.0->pycaret) (1.2.2)\n",
      "Requirement already satisfied: colorama in c:\\users\\moreilly1\\appdata\\roaming\\python\\python39\\site-packages (from ipython>=5.5.0->pycaret) (0.4.6)\n",
      "Requirement already satisfied: comm>=0.1.3 in c:\\users\\moreilly1\\appdata\\roaming\\python\\python39\\site-packages (from ipywidgets>=7.6.5->pycaret) (0.2.2)\n",
      "Requirement already satisfied: widgetsnbextension~=4.0.12 in c:\\users\\moreilly1\\anaconda3\\lib\\site-packages (from ipywidgets>=7.6.5->pycaret) (4.0.13)\n",
      "Requirement already satisfied: jupyterlab-widgets~=3.0.12 in c:\\users\\moreilly1\\anaconda3\\lib\\site-packages (from ipywidgets>=7.6.5->pycaret) (3.0.13)\n",
      "Requirement already satisfied: contourpy>=1.0.1 in c:\\users\\moreilly1\\anaconda3\\lib\\site-packages (from matplotlib<3.8.0->pycaret) (1.2.1)\n",
      "Requirement already satisfied: cycler>=0.10 in c:\\users\\moreilly1\\anaconda3\\lib\\site-packages (from matplotlib<3.8.0->pycaret) (0.11.0)\n",
      "Requirement already satisfied: fonttools>=4.22.0 in c:\\users\\moreilly1\\anaconda3\\lib\\site-packages (from matplotlib<3.8.0->pycaret) (4.55.3)\n",
      "Requirement already satisfied: kiwisolver>=1.0.1 in c:\\users\\moreilly1\\anaconda3\\lib\\site-packages (from matplotlib<3.8.0->pycaret) (1.4.4)\n",
      "Requirement already satisfied: pillow>=6.2.0 in c:\\users\\moreilly1\\anaconda3\\lib\\site-packages (from matplotlib<3.8.0->pycaret) (11.1.0)\n",
      "Requirement already satisfied: pyparsing>=2.3.1 in c:\\users\\moreilly1\\anaconda3\\lib\\site-packages (from matplotlib<3.8.0->pycaret) (3.2.0)\n",
      "Requirement already satisfied: python-dateutil>=2.7 in c:\\users\\moreilly1\\anaconda3\\lib\\site-packages (from matplotlib<3.8.0->pycaret) (2.9.0.post0)\n",
      "Requirement already satisfied: importlib-resources>=3.2.0 in c:\\users\\moreilly1\\anaconda3\\lib\\site-packages (from matplotlib<3.8.0->pycaret) (6.4.0)\n",
      "Requirement already satisfied: fastjsonschema>=2.15 in c:\\users\\moreilly1\\anaconda3\\lib\\site-packages (from nbformat>=4.2.0->pycaret) (2.20.0)\n",
      "Requirement already satisfied: jsonschema>=2.6 in c:\\users\\moreilly1\\anaconda3\\lib\\site-packages (from nbformat>=4.2.0->pycaret) (4.23.0)\n",
      "Requirement already satisfied: jupyter-core!=5.0.*,>=4.12 in c:\\users\\moreilly1\\appdata\\roaming\\python\\python39\\site-packages (from nbformat>=4.2.0->pycaret) (5.7.2)\n",
      "Requirement already satisfied: llvmlite<0.44,>=0.43.0dev0 in c:\\users\\moreilly1\\anaconda3\\lib\\site-packages (from numba>=0.55.0->pycaret) (0.43.0)\n",
      "Requirement already satisfied: pytz>=2020.1 in c:\\users\\moreilly1\\anaconda3\\lib\\site-packages (from pandas<2.2.0->pycaret) (2022.7.1)\n",
      "Requirement already satisfied: tzdata>=2022.1 in c:\\users\\moreilly1\\anaconda3\\lib\\site-packages (from pandas<2.2.0->pycaret) (2022.7)\n",
      "Requirement already satisfied: tenacity>=6.2.0 in c:\\users\\moreilly1\\anaconda3\\lib\\site-packages (from plotly>=5.14.0->pycaret) (9.0.0)\n",
      "Collecting dash>=2.9.0 (from plotly-resampler>=0.8.3.1->pycaret)\n",
      "  Using cached dash-3.0.1-py3-none-any.whl.metadata (10 kB)\n",
      "Requirement already satisfied: orjson<4.0.0,>=3.8.0 in c:\\users\\moreilly1\\anaconda3\\lib\\site-packages (from plotly-resampler>=0.8.3.1->pycaret) (3.10.16)\n",
      "Requirement already satisfied: tsdownsample>=0.1.3 in c:\\users\\moreilly1\\anaconda3\\lib\\site-packages (from plotly-resampler>=0.8.3.1->pycaret) (0.1.4.1)\n",
      "Requirement already satisfied: Cython!=0.29.18,!=0.29.31,>=0.29 in c:\\users\\moreilly1\\anaconda3\\lib\\site-packages (from pmdarima>=2.0.4->pycaret) (3.0.12)\n",
      "Requirement already satisfied: urllib3 in c:\\users\\moreilly1\\anaconda3\\lib\\site-packages (from pmdarima>=2.0.4->pycaret) (2.3.0)\n",
      "Requirement already satisfied: setuptools!=50.0.0,>=38.6.0 in c:\\users\\moreilly1\\anaconda3\\lib\\site-packages (from pmdarima>=2.0.4->pycaret) (75.8.0)\n",
      "Requirement already satisfied: charset-normalizer<4,>=2 in c:\\users\\moreilly1\\anaconda3\\lib\\site-packages (from requests>=2.27.1->pycaret) (3.3.2)\n",
      "Requirement already satisfied: idna<4,>=2.5 in c:\\users\\moreilly1\\anaconda3\\lib\\site-packages (from requests>=2.27.1->pycaret) (3.7)\n",
      "Requirement already satisfied: certifi>=2017.4.17 in c:\\users\\moreilly1\\anaconda3\\lib\\site-packages (from requests>=2.27.1->pycaret) (2025.1.31)\n",
      "Collecting Flask<3.1,>=1.0.4 (from dash>=2.9.0->plotly-resampler>=0.8.3.1->pycaret)\n",
      "  Using cached flask-3.0.3-py3-none-any.whl.metadata (3.2 kB)\n",
      "Requirement already satisfied: Werkzeug<3.1 in c:\\users\\moreilly1\\anaconda3\\lib\\site-packages (from dash>=2.9.0->plotly-resampler>=0.8.3.1->pycaret) (3.0.6)\n",
      "Requirement already satisfied: retrying in c:\\users\\moreilly1\\anaconda3\\lib\\site-packages (from dash>=2.9.0->plotly-resampler>=0.8.3.1->pycaret) (1.3.4)\n",
      "Requirement already satisfied: nest-asyncio in c:\\users\\moreilly1\\appdata\\roaming\\python\\python39\\site-packages (from dash>=2.9.0->plotly-resampler>=0.8.3.1->pycaret) (1.6.0)\n",
      "Requirement already satisfied: parso<0.9.0,>=0.8.4 in c:\\users\\moreilly1\\appdata\\roaming\\python\\python39\\site-packages (from jedi>=0.16->ipython>=5.5.0->pycaret) (0.8.4)\n",
      "Requirement already satisfied: attrs>=22.2.0 in c:\\users\\moreilly1\\anaconda3\\lib\\site-packages (from jsonschema>=2.6->nbformat>=4.2.0->pycaret) (24.3.0)\n",
      "Requirement already satisfied: jsonschema-specifications>=2023.03.6 in c:\\users\\moreilly1\\anaconda3\\lib\\site-packages (from jsonschema>=2.6->nbformat>=4.2.0->pycaret) (2023.7.1)\n",
      "Requirement already satisfied: referencing>=0.28.4 in c:\\users\\moreilly1\\anaconda3\\lib\\site-packages (from jsonschema>=2.6->nbformat>=4.2.0->pycaret) (0.30.2)\n",
      "Requirement already satisfied: rpds-py>=0.7.1 in c:\\users\\moreilly1\\anaconda3\\lib\\site-packages (from jsonschema>=2.6->nbformat>=4.2.0->pycaret) (0.22.3)\n",
      "Requirement already satisfied: platformdirs>=2.5 in c:\\users\\moreilly1\\appdata\\roaming\\python\\python39\\site-packages (from jupyter-core!=5.0.*,>=4.12->nbformat>=4.2.0->pycaret) (4.3.6)\n",
      "Requirement already satisfied: pywin32>=300 in c:\\users\\moreilly1\\appdata\\roaming\\python\\python39\\site-packages (from jupyter-core!=5.0.*,>=4.12->nbformat>=4.2.0->pycaret) (308)\n",
      "Requirement already satisfied: wcwidth in c:\\users\\moreilly1\\appdata\\roaming\\python\\python39\\site-packages (from prompt-toolkit<3.1.0,>=3.0.41->ipython>=5.5.0->pycaret) (0.2.13)\n",
      "Requirement already satisfied: six>=1.5 in c:\\users\\moreilly1\\anaconda3\\lib\\site-packages (from python-dateutil>=2.7->matplotlib<3.8.0->pycaret) (1.16.0)\n",
      "Requirement already satisfied: executing>=1.2.0 in c:\\users\\moreilly1\\appdata\\roaming\\python\\python39\\site-packages (from stack-data->ipython>=5.5.0->pycaret) (2.1.0)\n",
      "Requirement already satisfied: asttokens>=2.1.0 in c:\\users\\moreilly1\\appdata\\roaming\\python\\python39\\site-packages (from stack-data->ipython>=5.5.0->pycaret) (2.4.1)\n",
      "Requirement already satisfied: pure-eval in c:\\users\\moreilly1\\appdata\\roaming\\python\\python39\\site-packages (from stack-data->ipython>=5.5.0->pycaret) (0.2.3)\n",
      "Requirement already satisfied: itsdangerous>=2.1.2 in c:\\users\\moreilly1\\anaconda3\\lib\\site-packages (from Flask<3.1,>=1.0.4->dash>=2.9.0->plotly-resampler>=0.8.3.1->pycaret) (2.2.0)\n",
      "Requirement already satisfied: click>=8.1.3 in c:\\users\\moreilly1\\anaconda3\\lib\\site-packages (from Flask<3.1,>=1.0.4->dash>=2.9.0->plotly-resampler>=0.8.3.1->pycaret) (8.1.7)\n",
      "Requirement already satisfied: blinker>=1.6.2 in c:\\users\\moreilly1\\anaconda3\\lib\\site-packages (from Flask<3.1,>=1.0.4->dash>=2.9.0->plotly-resampler>=0.8.3.1->pycaret) (1.9.0)\n",
      "Using cached pycaret-3.3.2-py3-none-any.whl (486 kB)\n",
      "Using cached sktime-0.26.0-py3-none-any.whl (21.8 MB)\n",
      "Using cached category_encoders-2.6.4-py2.py3-none-any.whl (82 kB)\n",
      "Using cached lightgbm-4.6.0-py3-none-win_amd64.whl (1.5 MB)\n",
      "Using cached matplotlib-3.7.5-cp39-cp39-win_amd64.whl (7.5 MB)\n",
      "Using cached plotly_resampler-0.10.0-py3-none-any.whl (80 kB)\n",
      "Using cached pmdarima-2.0.4-cp39-cp39-win_amd64.whl (614 kB)\n",
      "Using cached scikit_plot-0.3.7-py3-none-any.whl (33 kB)\n",
      "Using cached tbats-1.1.3-py3-none-any.whl (44 kB)\n",
      "Using cached yellowbrick-1.5-py3-none-any.whl (282 kB)\n",
      "Using cached dash-3.0.1-py3-none-any.whl (8.0 MB)\n",
      "Using cached flask-3.0.3-py3-none-any.whl (101 kB)\n",
      "Installing collected packages: matplotlib, lightgbm, Flask, yellowbrick, sktime, scikit-plot, pyod, dash, pmdarima, plotly-resampler, category-encoders, tbats, pycaret\n"
     ]
    },
    {
     "name": "stderr",
     "output_type": "stream",
     "text": [
      "WARNING: Ignoring invalid distribution -atplotlib (c:\\users\\moreilly1\\anaconda3\\lib\\site-packages)\n",
      "WARNING: Ignoring invalid distribution -atplotlib (c:\\users\\moreilly1\\anaconda3\\lib\\site-packages)\n",
      "ERROR: Could not install packages due to an OSError: [WinError 32] The process cannot access the file because it is being used by another process: 'C:\\\\Users\\\\moreilly1\\\\Anaconda3\\\\Lib\\\\site-packages\\\\matplotlib\\\\mpl-data\\\\fonts\\\\ttf\\\\DejaVuSans.ttf'\n",
      "Consider using the `--user` option or check the permissions.\n",
      "\n"
     ]
    }
   ],
   "source": [
    "pip install pycaret"
   ]
  },
  {
   "cell_type": "markdown",
   "id": "664f6172-8b1b-4430-93a6-502df00de0a6",
   "metadata": {},
   "source": [
    "# Steps to Take\n",
    "\n",
    "- The first step in any PyCaret analysis is importing. PyCaret has datasets already loaded that can be used for analysis by calling \"get data\".\n",
    "- Then, import all (using *) from the classification module with the code ```from pycaret.classification import *```\n",
    "- Then load the data with the get_data() function.\n",
    "- Next is setting up the experiment. Use a descriptive name for your model and then call the setup() function. The required parameters will change based on the module.\n",
    "- The functions called throughout the experiment will also change depending on the module.\n",
    "- Lastly, the model can be saved using the save_model function. The first parameter is the model you want to save and the second is what you want to name it."
   ]
  },
  {
   "cell_type": "markdown",
   "id": "95da89b9-099e-4c90-8aa7-a6e49e86e22c",
   "metadata": {},
   "source": [
    "## Classification Module (nearly identical to Regression)"
   ]
  },
  {
   "cell_type": "code",
   "execution_count": 25,
   "id": "2ec1b1c9-7db4-4d16-a522-f43297e1a1c6",
   "metadata": {},
   "outputs": [],
   "source": [
    "# Importing the necessary libraries\n"
   ]
  },
  {
   "cell_type": "code",
   "execution_count": 27,
   "id": "4bfaeef8-42b9-4240-b8b5-0aa1f94f9322",
   "metadata": {},
   "outputs": [],
   "source": [
    "# Loading the datasets\n"
   ]
  },
  {
   "cell_type": "code",
   "execution_count": 29,
   "id": "e2b55bd6-3fde-47ca-b5ba-4ca56b6b328b",
   "metadata": {},
   "outputs": [],
   "source": [
    "# Setting up Classification Experiment\n"
   ]
  },
  {
   "cell_type": "code",
   "execution_count": 31,
   "id": "a28dc6bd-7b05-4d0e-83d4-51fdd013179e",
   "metadata": {},
   "outputs": [],
   "source": [
    "# Tune the model\n"
   ]
  },
  {
   "cell_type": "code",
   "execution_count": 33,
   "id": "2a7ca37f-7ff2-40a6-9ce1-db6df7bdab8d",
   "metadata": {},
   "outputs": [],
   "source": [
    "# Evaluate the model\n"
   ]
  },
  {
   "cell_type": "code",
   "execution_count": 35,
   "id": "d1b2d736-b4d0-4fe3-9586-f61b674e7468",
   "metadata": {},
   "outputs": [],
   "source": [
    "# Save the model\n"
   ]
  },
  {
   "cell_type": "markdown",
   "id": "70efb648-637b-4b30-b0a6-d794fae31d49",
   "metadata": {},
   "source": [
    "## Time Series Module"
   ]
  },
  {
   "cell_type": "code",
   "execution_count": 101,
   "id": "8e67ec25-34ae-4544-b7e2-f2f08f5a357d",
   "metadata": {},
   "outputs": [],
   "source": [
    "# Importing the necessary libraries\n"
   ]
  },
  {
   "cell_type": "code",
   "execution_count": 99,
   "id": "f8948390-1a8a-4ad6-9e44-b0cf7f96df97",
   "metadata": {},
   "outputs": [],
   "source": [
    "# Loading the datasets\n"
   ]
  },
  {
   "cell_type": "code",
   "execution_count": 97,
   "id": "e3017936-3a3d-4684-b084-8a3ff54b0040",
   "metadata": {},
   "outputs": [],
   "source": [
    "# Setting up Time Series Experiment\n"
   ]
  },
  {
   "cell_type": "code",
   "execution_count": 95,
   "id": "d7aed01d-13c8-4114-bfca-9d04a2f9e2d3",
   "metadata": {},
   "outputs": [],
   "source": [
    "# Predicting next 12 months\n"
   ]
  },
  {
   "cell_type": "code",
   "execution_count": 93,
   "id": "7b91ce33-8f23-44ed-93ba-57c8a434307c",
   "metadata": {},
   "outputs": [],
   "source": [
    "# Saving the model\n"
   ]
  },
  {
   "cell_type": "markdown",
   "id": "d4e42d31-3a9f-4a2e-abef-c0158e91551b",
   "metadata": {},
   "source": [
    "## Clustering Module"
   ]
  },
  {
   "cell_type": "code",
   "execution_count": 59,
   "id": "89214557-c47e-4353-9748-9f7fdb197d63",
   "metadata": {},
   "outputs": [],
   "source": [
    "# Importing the necessary libraries\n"
   ]
  },
  {
   "cell_type": "code",
   "execution_count": 57,
   "id": "bf8cda0f-c12c-4605-9f3f-d4c960edb8a1",
   "metadata": {},
   "outputs": [],
   "source": [
    "# Loading the datasets\n"
   ]
  },
  {
   "cell_type": "code",
   "execution_count": 55,
   "id": "23d573b5-faf0-4fb7-a4f9-8d23520ce778",
   "metadata": {},
   "outputs": [],
   "source": [
    "# Setting up Clustering Experiment\n"
   ]
  },
  {
   "cell_type": "code",
   "execution_count": 53,
   "id": "29f722a5-f99e-4b84-80a0-087f56eb27f7",
   "metadata": {},
   "outputs": [],
   "source": [
    "# Plot the model\n"
   ]
  },
  {
   "cell_type": "code",
   "execution_count": 51,
   "id": "e542e2eb-36e6-4ef6-80e7-1f04c30ddf11",
   "metadata": {},
   "outputs": [],
   "source": [
    "# Evaluate the model\n"
   ]
  },
  {
   "cell_type": "code",
   "execution_count": 49,
   "id": "331ae3f0-bd78-4aea-b196-3ec10c509eee",
   "metadata": {},
   "outputs": [],
   "source": [
    "# Save the model\n"
   ]
  },
  {
   "cell_type": "markdown",
   "id": "d12d2e1b-601e-4c26-a0ee-0b6cf966378f",
   "metadata": {},
   "source": [
    "## Anomaly Dectection Module"
   ]
  },
  {
   "cell_type": "code",
   "execution_count": 25,
   "id": "3aa60f90-50f5-4405-8049-dd603cdba51e",
   "metadata": {},
   "outputs": [],
   "source": [
    "# Importing the necessary libraries\n"
   ]
  },
  {
   "cell_type": "code",
   "execution_count": 23,
   "id": "a8487a6c-8c21-46e8-ba88-a4f5468f740a",
   "metadata": {},
   "outputs": [],
   "source": [
    "# Loading the datasets\n"
   ]
  },
  {
   "cell_type": "code",
   "execution_count": 21,
   "id": "ca0a91b4-e270-47d2-b642-cbabe65feba2",
   "metadata": {},
   "outputs": [],
   "source": [
    "# Setting up Anomaly Detection Experiment\n"
   ]
  },
  {
   "cell_type": "code",
   "execution_count": 19,
   "id": "7f6ac959-6c2d-4586-8ed7-dfd5e39592e9",
   "metadata": {},
   "outputs": [],
   "source": [
    "# Plot the model\n"
   ]
  },
  {
   "cell_type": "code",
   "execution_count": 17,
   "id": "4f4439f8-cc12-4630-8dc7-5afe7e9077e0",
   "metadata": {},
   "outputs": [],
   "source": [
    "# Evaluate the model\n"
   ]
  },
  {
   "cell_type": "code",
   "execution_count": 15,
   "id": "cffaa633-73b8-4b86-b911-65d372ff2a1a",
   "metadata": {},
   "outputs": [],
   "source": [
    "# Save the model\n"
   ]
  }
 ],
 "metadata": {
  "kernelspec": {
   "display_name": "Python [conda env:base] *",
   "language": "python",
   "name": "conda-base-py"
  },
  "language_info": {
   "codemirror_mode": {
    "name": "ipython",
    "version": 3
   },
   "file_extension": ".py",
   "mimetype": "text/x-python",
   "name": "python",
   "nbconvert_exporter": "python",
   "pygments_lexer": "ipython3",
   "version": "3.9.20"
  }
 },
 "nbformat": 4,
 "nbformat_minor": 5
}
